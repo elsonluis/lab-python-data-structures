{
  "nbformat": 4,
  "nbformat_minor": 0,
  "metadata": {
    "colab": {
      "provenance": []
    },
    "kernelspec": {
      "name": "python3",
      "display_name": "Python 3"
    },
    "language_info": {
      "name": "python"
    }
  },
  "cells": [
    {
      "cell_type": "code",
      "execution_count": null,
      "metadata": {
        "id": "PG76mR_Ir1Y7"
      },
      "outputs": [],
      "source": []
    },
    {
      "cell_type": "markdown",
      "source": [
        "#Lab | Flow Control\n",
        "Exercise: Managing Customer Orders Optimized\n",
        "In the last lab, you were starting an online store that sells various products. To ensure smooth operations, you developed a program that manages customer orders and inventory.\n",
        "\n",
        "You did so without using flow control. Let's go a step further and improve this code.\n",
        "\n",
        "Follow the steps below to complete the exercise:\n",
        "\n",
        "Look at your code from the lab data structures, and improve repeated code with loops.\n",
        "\n",
        "Instead of asking the user to input the name of three products that a customer wants to order, do the following:\n",
        "\n",
        "a. Prompt the user to enter the name of a product that a customer wants to order.\n",
        "\n",
        "b. Add the product name to the \"customer_orders\" set.\n",
        "\n",
        "c. Ask the user if they want to add another product (yes/no).\n",
        "\n",
        "d. Continue the loop until the user does not want to add another product.\n",
        "\n",
        "Instead of updating the inventory by subtracting 1 from the quantity of each product, only do it for the products that were ordered (those in \"customer_orders\")."
      ],
      "metadata": {
        "id": "6HUdSAyBr5OX"
      }
    },
    {
      "cell_type": "code",
      "source": [
        "products = [\"t-shirt\", \"mug\", \"hat\", \"book\", \"keychain\"]\n",
        "\n",
        "input(\"Enter the name of the product\")"
      ],
      "metadata": {
        "colab": {
          "base_uri": "https://localhost:8080/",
          "height": 53
        },
        "id": "G_U3Ta2Lr7Tq",
        "outputId": "63c2640a-fd0d-466b-ec70-ef8e538a204d"
      },
      "execution_count": null,
      "outputs": [
        {
          "name": "stdout",
          "output_type": "stream",
          "text": [
            "Enter the name of the producthat\n"
          ]
        },
        {
          "output_type": "execute_result",
          "data": {
            "text/plain": [
              "'hat'"
            ],
            "application/vnd.google.colaboratory.intrinsic+json": {
              "type": "string"
            }
          },
          "metadata": {},
          "execution_count": 3
        }
      ]
    },
    {
      "cell_type": "code",
      "source": [
        "costumer_orders = {\"t-shirt\", \"mug\", \"hat\", \"book\", \"keychain\"}"
      ],
      "metadata": {
        "id": "hrpk-czMt-Ka"
      },
      "execution_count": null,
      "outputs": []
    },
    {
      "cell_type": "code",
      "source": [
        "customer_orders = {\"t-shirt\", \"mug\", \"hat\", \"book\", \"keychain\"}\n",
        "new_product = \"socks\"\n",
        "\n",
        "if new_product not in customer_orders:\n",
        "    customer_orders.add(new_product)\n",
        "    print(f\"{new_product} added to customer_orders.\")\n",
        "else:\n",
        "    print(f\"{new_product} is already in customer_orders.\")"
      ],
      "metadata": {
        "colab": {
          "base_uri": "https://localhost:8080/"
        },
        "id": "OLCHHYOVNlKf",
        "outputId": "ebbed078-3b70-4ef5-d927-2fcab3b66b88"
      },
      "execution_count": null,
      "outputs": [
        {
          "output_type": "stream",
          "name": "stdout",
          "text": [
            "socks added to customer_orders.\n"
          ]
        }
      ]
    },
    {
      "cell_type": "code",
      "source": [
        "\n",
        "    new_product = input(\"Do you want to add another product?(yes/NO)\")\n",
        "\n",
        "    if new_product not in customer_orders:\n",
        "        customer_orders.add(new_product)\n",
        "\n",
        "\n"
      ],
      "metadata": {
        "colab": {
          "base_uri": "https://localhost:8080/"
        },
        "id": "6C9ZDIoRaUk5",
        "outputId": "25a17521-7b0a-40b5-98bf-70270ffa5ebd"
      },
      "execution_count": null,
      "outputs": [
        {
          "name": "stdout",
          "output_type": "stream",
          "text": [
            "Do you want to add another product?(yes/NO)yes\n"
          ]
        }
      ]
    },
    {
      "cell_type": "code",
      "source": [
        "customer_orders = {\"t-shirt\", \"mug\", \"hat\", \"book\", \"keychain\"}\n",
        "\n",
        "while True:\n",
        "    new_product = input(\"Enter the product you want to add: \")\n",
        "\n",
        "    if new_product not in customer_orders:\n",
        "        customer_orders.add(new_product)\n",
        "        print(f\"{new_product} added to customer_orders.\")\n",
        "    else:\n",
        "        print(f\"{new_product} is already in customer_orders.\")\n",
        "\n",
        "    another_product = input(\"Do you want to add another product? (yes/no): \").lower()\n",
        "\n",
        "    if another_product == 'no':\n",
        "        break"
      ],
      "metadata": {
        "colab": {
          "base_uri": "https://localhost:8080/"
        },
        "id": "sNqZKn5hc6D9",
        "outputId": "660c73f0-7eb2-475a-983f-47b66c7d4f90"
      },
      "execution_count": null,
      "outputs": [
        {
          "name": "stdout",
          "output_type": "stream",
          "text": [
            "Enter the product you want to add: yes\n",
            "yes added to customer_orders.\n",
            "Do you want to add another product? (yes/no): yes\n",
            "Enter the product you want to add: yes\n",
            "yes is already in customer_orders.\n",
            "Do you want to add another product? (yes/no): no\n"
          ]
        }
      ]
    }
  ]
}